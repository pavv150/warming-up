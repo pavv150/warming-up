{
 "cells": [
  {
   "cell_type": "code",
   "execution_count": 2,
   "metadata": {},
   "outputs": [
    {
     "name": "stdout",
     "output_type": "stream",
     "text": [
      "[39038, 39647, 39952, 40104, 40180, 40189, 40194, 40196, 40197, 40198]\n"
     ]
    }
   ],
   "source": [
    "f = open('D:\\kimsy\\랜선자르기in3.txt')\n",
    "k,n = map(int, f.readline().split())\n",
    "line = []\n",
    "answer = []\n",
    "\n",
    "for _ in range(k):\n",
    "    line.append(int(f.readline()))\n",
    "    \n",
    "def lan_cable(length):\n",
    "    cnt = 0\n",
    "    for x in line:\n",
    "        cnt += (x//length)\n",
    "    return cnt\n",
    "\n",
    "line.sort()\n",
    "left_min = 0\n",
    "right_max=line[-1]\n",
    "\n",
    "while left_min <= right_max:\n",
    "    mid = (left_min + right_max)//2\n",
    "    if lan_cable(mid) >=n:\n",
    "        answer.append(mid)\n",
    "        left_min = mid + 1\n",
    "    else:\n",
    "        right_max = mid -1\n",
    "print(answer)\n",
    "\n",
    "f.close()\n"
   ]
  },
  {
   "cell_type": "code",
   "execution_count": 3,
   "metadata": {},
   "outputs": [
    {
     "data": {
      "text/plain": [
       "800"
      ]
     },
     "execution_count": 3,
     "metadata": {},
     "output_type": "execute_result"
    }
   ],
   "source": []
  },
  {
   "cell_type": "code",
   "execution_count": 4,
   "metadata": {},
   "outputs": [
    {
     "data": {
      "text/plain": [
       "100000"
      ]
     },
     "execution_count": 4,
     "metadata": {},
     "output_type": "execute_result"
    }
   ],
   "source": []
  },
  {
   "cell_type": "code",
   "execution_count": null,
   "metadata": {},
   "outputs": [],
   "source": []
  }
 ],
 "metadata": {
  "kernelspec": {
   "display_name": "Python 3",
   "language": "python",
   "name": "python3"
  },
  "language_info": {
   "codemirror_mode": {
    "name": "ipython",
    "version": 3
   },
   "file_extension": ".py",
   "mimetype": "text/x-python",
   "name": "python",
   "nbconvert_exporter": "python",
   "pygments_lexer": "ipython3",
   "version": "3.8.3"
  }
 },
 "nbformat": 4,
 "nbformat_minor": 4
}

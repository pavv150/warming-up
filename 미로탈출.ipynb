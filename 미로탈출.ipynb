{
 "cells": [
  {
   "cell_type": "code",
   "execution_count": 5,
   "metadata": {},
   "outputs": [
    {
     "name": "stdout",
     "output_type": "stream",
     "text": [
      "12\n"
     ]
    }
   ],
   "source": [
    "from collections import deque\n",
    "f = open(\"d:\\kimsy\\미로탈출in1.txt\")\n",
    "matrix = [list(map(int,f.readline().split())) for _ in range(7)]\n",
    "dx=[-1,0,1,0]\n",
    "dy=[0,1,0,-1]\n",
    "dis=[[0]*7 for _ in range(7)]\n",
    "Q = deque()\n",
    "Q.append((0,0))\n",
    "matrix[0][0] = 8 # 처음 시작점을 체크한후 시작\n",
    "while Q:\n",
    "    temp = Q.popleft()\n",
    "    for i in range(4): # 위 아래 왼 오른쪽 좌표값 계산\n",
    "        x = temp[0] + dx[i]\n",
    "        y = temp[1] + dy[i]\n",
    "        if 0<= x <=6 and 0 <= y <=6 and matrix[x][y] == 0:\n",
    "            matrix[x][y] = 8\n",
    "            dis[x][y] = dis[temp[0]][temp[1]]+1\n",
    "            Q.append((x,y))\n",
    "if dis[6][6] == 0:\n",
    "    print(-1)\n",
    "else:\n",
    "    print(dis[6][6])\n",
    "f.close()"
   ]
  },
  {
   "cell_type": "code",
   "execution_count": 7,
   "metadata": {},
   "outputs": [
    {
     "data": {
      "text/plain": [
       "[[0, 1, 2, 3, 4, 5, 6],\n",
       " [1, 0, 0, 0, 0, 0, 7],\n",
       " [2, 3, 4, 0, 10, 9, 8],\n",
       " [0, 0, 5, 0, 9, 0, 0],\n",
       " [0, 0, 6, 7, 8, 9, 0],\n",
       " [0, 0, 7, 0, 0, 0, 13],\n",
       " [0, 9, 8, 9, 10, 11, 12]]"
      ]
     },
     "execution_count": 7,
     "metadata": {},
     "output_type": "execute_result"
    }
   ],
   "source": [
    "dis"
   ]
  },
  {
   "cell_type": "code",
   "execution_count": 33,
   "metadata": {},
   "outputs": [
    {
     "name": "stdout",
     "output_type": "stream",
     "text": [
      "[0, 0, 0, 1, 1]\n",
      "[0, 1, 0, 0, 1]\n",
      "[0, 1, 1, 0, 1]\n",
      "[0, 1, 0, 0, 0]\n",
      "[0, 0, 0, 0, 0]\n"
     ]
    }
   ],
   "source": [
    "for xx in matrix:\n",
    "    print(xx)"
   ]
  },
  {
   "cell_type": "code",
   "execution_count": 34,
   "metadata": {},
   "outputs": [
    {
     "name": "stdout",
     "output_type": "stream",
     "text": [
      "[0, 0, 0, 0, 0]\n",
      "[0, 0, 0, 0, 0]\n",
      "[0, 0, 0, 0, 0]\n",
      "[0, 0, 0, 0, 0]\n",
      "[0, 0, 0, 0, 0]\n"
     ]
    }
   ],
   "source": [
    "for dd in dis:\n",
    "    print(dd)"
   ]
  },
  {
   "cell_type": "code",
   "execution_count": null,
   "metadata": {},
   "outputs": [],
   "source": []
  }
 ],
 "metadata": {
  "kernelspec": {
   "display_name": "Python 3",
   "language": "python",
   "name": "python3"
  },
  "language_info": {
   "codemirror_mode": {
    "name": "ipython",
    "version": 3
   },
   "file_extension": ".py",
   "mimetype": "text/x-python",
   "name": "python",
   "nbconvert_exporter": "python",
   "pygments_lexer": "ipython3",
   "version": "3.8.3"
  }
 },
 "nbformat": 4,
 "nbformat_minor": 4
}

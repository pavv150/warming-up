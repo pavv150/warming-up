{
 "cells": [
  {
   "cell_type": "code",
   "execution_count": 75,
   "metadata": {},
   "outputs": [
    {
     "name": "stdout",
     "output_type": "stream",
     "text": [
      "3\n"
     ]
    }
   ],
   "source": [
    "f = open('D:\\kimsy\\격자판회문수1.txt')\n",
    "mat = [list(map(int, f.readline().split())) for _ in range(7)]\n",
    "cnt = 0 #항상 무엇을 셀때는 카운트 변수 반드시필요\n",
    "for i in range(3):\n",
    "    for j in range(7):\n",
    "        temp = mat[j][i : i+5]\n",
    "        if temp == temp[::-1] : # 행의 회문수를 찾기\n",
    "            cnt +=1\n",
    "        for k in range(2):      # 열의 회문수 찾기\n",
    "            if mat[i+k][j] != mat[i+4-k][j]:\n",
    "                break\n",
    "        else:\n",
    "            cnt +=1\n",
    "print(cnt)\n",
    "f.close()"
   ]
  },
  {
   "cell_type": "code",
   "execution_count": 31,
   "metadata": {},
   "outputs": [
    {
     "data": {
      "text/plain": [
       "[[2, 4, 1, 5, 3, 2, 6],\n",
       " [3, 5, 1, 8, 7, 1, 7],\n",
       " [8, 3, 2, 7, 1, 3, 8],\n",
       " [6, 1, 2, 3, 2, 1, 1],\n",
       " [1, 3, 1, 3, 5, 3, 2],\n",
       " [1, 1, 2, 5, 6, 5, 2],\n",
       " [1, 2, 2, 2, 2, 1, 5]]"
      ]
     },
     "execution_count": 31,
     "metadata": {},
     "output_type": "execute_result"
    }
   ],
   "source": [
    "mat"
   ]
  },
  {
   "cell_type": "code",
   "execution_count": 44,
   "metadata": {},
   "outputs": [],
   "source": [
    "test =[1,2,3,2,1]"
   ]
  },
  {
   "cell_type": "code",
   "execution_count": 47,
   "metadata": {},
   "outputs": [
    {
     "data": {
      "text/plain": [
       "True"
      ]
     },
     "execution_count": 47,
     "metadata": {},
     "output_type": "execute_result"
    }
   ],
   "source": [
    "test == test[::-1]"
   ]
  },
  {
   "cell_type": "code",
   "execution_count": 46,
   "metadata": {},
   "outputs": [
    {
     "data": {
      "text/plain": [
       "[1, 2, 3, 2, 1]"
      ]
     },
     "execution_count": 46,
     "metadata": {},
     "output_type": "execute_result"
    }
   ],
   "source": [
    "test[::-1]"
   ]
  },
  {
   "cell_type": "code",
   "execution_count": 52,
   "metadata": {},
   "outputs": [
    {
     "name": "stdout",
     "output_type": "stream",
     "text": [
      "break문은 수행 x\n"
     ]
    }
   ],
   "source": [
    "for i in range(10):\n",
    "    if i == 10:\n",
    "        break\n",
    "else:\n",
    "    print(\"break문은 수행 x\")"
   ]
  },
  {
   "cell_type": "code",
   "execution_count": 56,
   "metadata": {},
   "outputs": [],
   "source": [
    "news_article = '''Justice Minister Choo Mi-ae on Tuesday suspended Prosecutor General Yoon Seok-youl from his duty, in an unprecedented move amid a feud over prosecution reforms and various investigations involving Yoon's aide and family members.\n",
    "\n",
    "\"The ministry has been investigating various allegations against the top prosecutor and found out some serious misconduct,\" the justice minister said during a briefing.\n",
    "\n",
    "As reasons to bar him from his duty and seek disciplinary actions, the minister cited what she called an \"improper\" meeting with a media executive, the illegal inspection of judges involved in controversial cases, interference with the prosecution's investigations to protect people close to him and damage to public trust in the political neutrality of the prosecution. She also cited his alleged leak of information to the press on the Supreme Prosecutors Office's launch of an audit into his close aide involved in an alleged blackmail case.'''"
   ]
  },
  {
   "cell_type": "code",
   "execution_count": 57,
   "metadata": {},
   "outputs": [
    {
     "data": {
      "text/plain": [
       "'Justice Minister Choo Mi-ae on Tuesday suspended Prosecutor General Yoon Seok-youl from his duty, in an unprecedented move amid a feud over prosecution reforms and various investigations involving Yoon\\'s aide and family members.\\n\\n\"The ministry has been investigating various allegations against the top prosecutor and found out some serious misconduct,\" the justice minister said during a briefing.\\n\\nAs reasons to bar him from his duty and seek disciplinary actions, the minister cited what she called an \"improper\" meeting with a media executive, the illegal inspection of judges involved in controversial cases, interference with the prosecution\\'s investigations to protect people close to him and damage to public trust in the political neutrality of the prosecution. She also cited his alleged leak of information to the press on the Supreme Prosecutors Office\\'s launch of an audit into his close aide involved in an alleged blackmail case.'"
      ]
     },
     "execution_count": 57,
     "metadata": {},
     "output_type": "execute_result"
    }
   ],
   "source": [
    "news_article"
   ]
  },
  {
   "cell_type": "code",
   "execution_count": 70,
   "metadata": {},
   "outputs": [
    {
     "data": {
      "text/plain": [
       "[('a', 54),\n",
       " ('in', 25),\n",
       " ('on', 16),\n",
       " ('to', 10),\n",
       " ('an', 9),\n",
       " ('the', 9),\n",
       " ('and', 5),\n",
       " ('his', 4),\n",
       " ('of', 4),\n",
       " ('prosecution', 3)]"
      ]
     },
     "execution_count": 70,
     "metadata": {},
     "output_type": "execute_result"
    }
   ],
   "source": [
    "word_list = news_article.split(' ')\n",
    "word_dic = {}\n",
    "for word in word_list:\n",
    "    word_dic[word] = news_article.count(word)\n",
    "sorted(word_dic.items(), reverse=True, key= lambda xx:xx[1])[0:10]\n"
   ]
  },
  {
   "cell_type": "code",
   "execution_count": null,
   "metadata": {},
   "outputs": [],
   "source": []
  }
 ],
 "metadata": {
  "kernelspec": {
   "display_name": "Python 3",
   "language": "python",
   "name": "python3"
  },
  "language_info": {
   "codemirror_mode": {
    "name": "ipython",
    "version": 3
   },
   "file_extension": ".py",
   "mimetype": "text/x-python",
   "name": "python",
   "nbconvert_exporter": "python",
   "pygments_lexer": "ipython3",
   "version": "3.8.3"
  }
 },
 "nbformat": 4,
 "nbformat_minor": 4
}

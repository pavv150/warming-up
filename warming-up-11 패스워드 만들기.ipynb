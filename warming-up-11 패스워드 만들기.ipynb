{
 "cells": [
  {
   "cell_type": "code",
   "execution_count": 1,
   "metadata": {},
   "outputs": [],
   "source": [
    "data = \"\"\n",
    "def is_goodpw(data):\n",
    "    if len(data) < 10 : return False\n",
    "    if data.upper() == data : return False #소문자가 없다는뜻\n",
    "    if data.lower() == data : return False #대문자가 없다는뜻\n",
    "    return any(xx.isdigit() for xx in data)\n",
    "    "
   ]
  },
  {
   "cell_type": "code",
   "execution_count": 3,
   "metadata": {},
   "outputs": [
    {
     "data": {
      "text/plain": [
       "True"
      ]
     },
     "execution_count": 3,
     "metadata": {},
     "output_type": "execute_result"
    }
   ],
   "source": [
    "is_goodpw(\"abcDefghijdf45\")"
   ]
  },
  {
   "cell_type": "code",
   "execution_count": 4,
   "metadata": {},
   "outputs": [],
   "source": [
    "data = \"\"\n",
    "def is_realgoodpw(data):\n",
    "    if len(data) < 10 : return False\n",
    "    if data.upper() == data : return False #소문자가 없다는뜻\n",
    "    if data.lower() == data : return False #대문자가 없다는뜻\n",
    "    if any(xx in ['!','@','#','$','&','*'] for xx in data):\n",
    "        return any(xx.isdigit() for xx in data)\n",
    "    else : return False"
   ]
  },
  {
   "cell_type": "code",
   "execution_count": 5,
   "metadata": {},
   "outputs": [
    {
     "data": {
      "text/plain": [
       "True"
      ]
     },
     "execution_count": 5,
     "metadata": {},
     "output_type": "execute_result"
    }
   ],
   "source": [
    "is_realgoodpw(\"Dffffggklgj3$\")"
   ]
  },
  {
   "cell_type": "code",
   "execution_count": null,
   "metadata": {},
   "outputs": [],
   "source": []
  }
 ],
 "metadata": {
  "kernelspec": {
   "display_name": "Python 3",
   "language": "python",
   "name": "python3"
  },
  "language_info": {
   "codemirror_mode": {
    "name": "ipython",
    "version": 3
   },
   "file_extension": ".py",
   "mimetype": "text/x-python",
   "name": "python",
   "nbconvert_exporter": "python",
   "pygments_lexer": "ipython3",
   "version": "3.8.3"
  }
 },
 "nbformat": 4,
 "nbformat_minor": 4
}

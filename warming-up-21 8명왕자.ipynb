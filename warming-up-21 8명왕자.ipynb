{
 "cells": [
  {
   "cell_type": "code",
   "execution_count": 2,
   "metadata": {},
   "outputs": [
    {
     "name": "stdout",
     "output_type": "stream",
     "text": [
      "n과  k를 컴마로 구분해서 입력하세요=8,3\n",
      "[4, 5, 6, 7, 8, 1, 2]\n",
      "[7, 8, 1, 2, 4, 5]\n",
      "[2, 4, 5, 7, 8]\n",
      "[7, 8, 2, 4]\n",
      "[4, 7, 8]\n",
      "[4, 7]\n",
      "[7]\n",
      "공주를 구하로갈 왕자는 7 번째 왕자입니다\n"
     ]
    }
   ],
   "source": [
    "n, k = map(int, input ('n과  k를 컴마로 구분해서 입력하세요=').split(','))\n",
    "princes = list(range(1,n+1))\n",
    "\n",
    "while princes:\n",
    "    for _ in range(k-1):\n",
    "        princes.append(princes.pop(0))\n",
    "    princes.pop(0)\n",
    "    print(princes)\n",
    "    if len(princes) == 1:\n",
    "        print(\"공주를 구하로갈 왕자는\",princes[0],\"번째 왕자입니다\")\n",
    "        break"
   ]
  },
  {
   "cell_type": "code",
   "execution_count": 34,
   "metadata": {},
   "outputs": [
    {
     "name": "stdout",
     "output_type": "stream",
     "text": [
      "n과  k를 컴마로 구분해서 입력하세요=8,3\n",
      "공주를 구하로갈 왕자는 7 번째 왕자입니다\n"
     ]
    }
   ],
   "source": [
    "from collections import deque\n",
    "n, k = map(int, input ('n과  k를 컴마로 구분해서 입력하세요=').split(','))\n",
    "princes = list(range(1,n+1))\n",
    "dq = deque(princes)\n",
    "while dq:\n",
    "    for _ in range(k-1):\n",
    "        dq.append(dq.popleft())\n",
    "    dq.popleft()\n",
    "    if len(dq)== 1:\n",
    "        print(\"공주를 구하로갈 왕자는\",dq[0],\"번째 왕자입니다\")\n",
    "        break"
   ]
  },
  {
   "cell_type": "code",
   "execution_count": null,
   "metadata": {},
   "outputs": [],
   "source": []
  }
 ],
 "metadata": {
  "kernelspec": {
   "display_name": "Python 3",
   "language": "python",
   "name": "python3"
  },
  "language_info": {
   "codemirror_mode": {
    "name": "ipython",
    "version": 3
   },
   "file_extension": ".py",
   "mimetype": "text/x-python",
   "name": "python",
   "nbconvert_exporter": "python",
   "pygments_lexer": "ipython3",
   "version": "3.8.3"
  }
 },
 "nbformat": 4,
 "nbformat_minor": 4
}

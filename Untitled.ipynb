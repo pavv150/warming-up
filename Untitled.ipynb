{
 "cells": [
  {
   "cell_type": "code",
   "execution_count": 9,
   "metadata": {},
   "outputs": [],
   "source": [
    "# *args 처리해 봅시다\n",
    "# 이선희   이  선희\n",
    "def lastname_and_firstname(*Names):\n",
    "    \n"
   ]
  },
  {
   "cell_type": "code",
   "execution_count": 10,
   "metadata": {},
   "outputs": [
    {
     "name": "stdout",
     "output_type": "stream",
     "text": [
      "<class 'tuple'>\n",
      "이선희\n",
      "이문세\n",
      "곽철용\n"
     ]
    }
   ],
   "source": [
    "lastname_and_firstname(\"이선희\",\"이문세\",\"곽철용\")"
   ]
  },
  {
   "cell_type": "code",
   "execution_count": 12,
   "metadata": {},
   "outputs": [],
   "source": [
    "test_str = \"김세연\""
   ]
  },
  {
   "cell_type": "code",
   "execution_count": 13,
   "metadata": {},
   "outputs": [
    {
     "name": "stdout",
     "output_type": "stream",
     "text": [
      "<class 'tuple'>\n",
      "['이선희', '이문세', '곽철용', '최양락', '박준형', '전경미']\n"
     ]
    }
   ],
   "source": [
    "star_list = [\"이선희\",\"이문세\",\"곽철용\",\"최양락\",\"박준형\",\"전경미\"]\n",
    "lastname_and_firstname(star_list)"
   ]
  },
  {
   "cell_type": "code",
   "execution_count": 14,
   "metadata": {},
   "outputs": [
    {
     "data": {
      "text/plain": [
       "3"
      ]
     },
     "execution_count": 14,
     "metadata": {},
     "output_type": "execute_result"
    }
   ],
   "source": [
    "len(test_str)"
   ]
  },
  {
   "cell_type": "code",
   "execution_count": 15,
   "metadata": {},
   "outputs": [
    {
     "data": {
      "text/plain": [
       "'김세연'"
      ]
     },
     "execution_count": 15,
     "metadata": {},
     "output_type": "execute_result"
    }
   ],
   "source": [
    "test_str[:100]"
   ]
  },
  {
   "cell_type": "code",
   "execution_count": 23,
   "metadata": {},
   "outputs": [
    {
     "ename": "IndexError",
     "evalue": "string index out of range",
     "output_type": "error",
     "traceback": [
      "\u001b[1;31m---------------------------------------------------------------------------\u001b[0m",
      "\u001b[1;31mIndexError\u001b[0m                                Traceback (most recent call last)",
      "\u001b[1;32m<ipython-input-23-59e065bce63d>\u001b[0m in \u001b[0;36m<module>\u001b[1;34m\u001b[0m\n\u001b[1;32m----> 1\u001b[1;33m \u001b[0mtest_str\u001b[0m\u001b[1;33m[\u001b[0m\u001b[1;36m3\u001b[0m\u001b[1;33m]\u001b[0m\u001b[1;33m\u001b[0m\u001b[1;33m\u001b[0m\u001b[0m\n\u001b[0m",
      "\u001b[1;31mIndexError\u001b[0m: string index out of range"
     ]
    }
   ],
   "source": [
    "test_str[3]"
   ]
  },
  {
   "cell_type": "code",
   "execution_count": 26,
   "metadata": {},
   "outputs": [],
   "source": [
    "def voca_list(**Words):\n",
    "    for key,value in Words.items():\n",
    "        print(\"{1} is {0}\".format(key,value))\n",
    "    "
   ]
  },
  {
   "cell_type": "code",
   "execution_count": 28,
   "metadata": {},
   "outputs": [
    {
     "name": "stdout",
     "output_type": "stream",
     "text": [
      "사과 is apple\n",
      "바나나 is banana\n"
     ]
    }
   ],
   "source": [
    "voca_list(apple = \"사과\", banana=\"바나나\")"
   ]
  },
  {
   "cell_type": "code",
   "execution_count": 47,
   "metadata": {},
   "outputs": [],
   "source": [
    "def cafe_store_board(store_name, *Messages, **fruit_tag):\n",
    "    '''\n",
    "    Store_name : 가게이름\n",
    "    Message : 오늘 사인보드에 알릴 사항\n",
    "    cafe_tag : 과일표 가격표\n",
    "    \n",
    "    '''\n",
    "    print(\"***** \",store_name,\"*****\\n\")\n",
    "    for message in Messages:\n",
    "        print(message)\n",
    "    print(\"\\n\")\n",
    "    \n",
    "    for menu, tag in fruit_tag.items():\n",
    "        calib = 40 - len(menu)*2 - len(str(tag))\n",
    "        print('{}'.format(menu),'.'*calib,'{}'.format(tag))"
   ]
  },
  {
   "cell_type": "code",
   "execution_count": 48,
   "metadata": {
    "scrolled": true
   },
   "outputs": [
    {
     "name": "stdout",
     "output_type": "stream",
     "text": [
      "*****  cafe123 *****\n",
      "\n",
      "안녕하세요\n",
      "제가만든\n",
      "원두로\n",
      "만들었습니다\n",
      "\n",
      "\n",
      "아메리카노 .......................... 2000\n",
      "라떼 ................................ 3500\n",
      "아이스아메리카노 .................... 2500\n",
      "스콘 ................................. 800\n"
     ]
    }
   ],
   "source": [
    "cafe_store_board(\"cafe123\",\"안녕하세요\",\"제가만든\",\"원두로\",\"만들었습니다\",아메리카노=2000,라떼=3500,아이스아메리카노=2500,스콘=800)"
   ]
  },
  {
   "cell_type": "code",
   "execution_count": null,
   "metadata": {},
   "outputs": [],
   "source": []
  },
  {
   "cell_type": "code",
   "execution_count": null,
   "metadata": {},
   "outputs": [],
   "source": []
  }
 ],
 "metadata": {
  "kernelspec": {
   "display_name": "Python 3",
   "language": "python",
   "name": "python3"
  },
  "language_info": {
   "codemirror_mode": {
    "name": "ipython",
    "version": 3
   },
   "file_extension": ".py",
   "mimetype": "text/x-python",
   "name": "python",
   "nbconvert_exporter": "python",
   "pygments_lexer": "ipython3",
   "version": "3.8.3"
  }
 },
 "nbformat": 4,
 "nbformat_minor": 4
}

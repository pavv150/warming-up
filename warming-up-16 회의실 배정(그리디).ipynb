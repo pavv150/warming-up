{
 "cells": [
  {
   "cell_type": "code",
   "execution_count": 45,
   "metadata": {},
   "outputs": [
    {
     "name": "stdout",
     "output_type": "stream",
     "text": [
      "회의가 가능한 횟수는 =  6\n"
     ]
    }
   ],
   "source": [
    "f = open('D:\\kimsy\\회의실in1.txt')\n",
    "n = int(f.readline())\n",
    "meeting=[]\n",
    "for i in range(n):\n",
    "    st, et = map(int, f.readline().split())\n",
    "    meeting.append((st,et))\n",
    "    \n",
    "meeting.sort(key=lambda x:(x[1],x[0]))\n",
    "\n",
    "cnt = 0\n",
    "et = 0\n",
    "for s,e in meeting:\n",
    "    if s >= et:\n",
    "        et = e  #이전 미팅의 마지막 시간을 보관한다\n",
    "        cnt +=1\n",
    "print(\"회의가 가능한 횟수는 = \",cnt)\n",
    "            \n",
    "\n",
    "\n",
    "\n",
    "f.close()"
   ]
  },
  {
   "cell_type": "code",
   "execution_count": 52,
   "metadata": {},
   "outputs": [
    {
     "name": "stdout",
     "output_type": "stream",
     "text": [
      "(1, 5)로 시작할때 회의 가능횟수 =6\n",
      "(2, 8)로 시작할때 회의 가능횟수 =5\n",
      "(5, 9)로 시작할때 회의 가능횟수 =5\n",
      "(11, 12)로 시작할때 회의 가능횟수 =4\n",
      "(11, 13)로 시작할때 회의 가능횟수 =3\n",
      "(12, 15)로 시작할때 회의 가능횟수 =3\n",
      "(4, 16)로 시작할때 회의 가능횟수 =3\n",
      "(9, 19)로 시작할때 회의 가능횟수 =2\n",
      "(18, 19)로 시작할때 회의 가능횟수 =2\n",
      "(2, 20)로 시작할때 회의 가능횟수 =2\n",
      "(5, 20)로 시작할때 회의 가능횟수 =2\n",
      "(14, 20)로 시작할때 회의 가능횟수 =2\n",
      "(16, 20)로 시작할때 회의 가능횟수 =2\n",
      "(4, 21)로 시작할때 회의 가능횟수 =2\n",
      "(13, 21)로 시작할때 회의 가능횟수 =2\n",
      "(2, 22)로 시작할때 회의 가능횟수 =2\n",
      "(16, 22)로 시작할때 회의 가능횟수 =2\n",
      "(12, 23)로 시작할때 회의 가능횟수 =1\n",
      "(21, 23)로 시작할때 회의 가능횟수 =1\n",
      "(22, 23)로 시작할때 회의 가능횟수 =1\n"
     ]
    }
   ],
   "source": [
    "f = open('D:\\kimsy\\회의실in1.txt')\n",
    "n = int(f.readline())\n",
    "meeting=[]\n",
    "for i in range(n):\n",
    "    st, et = map(int, f.readline().split())\n",
    "    meeting.append((st,et))\n",
    "    \n",
    "\n",
    "\n",
    "\n",
    "meeting.sort(key=lambda x:(x[1],x[0]))\n",
    "c_meeting = meeting.copy()\n",
    "for xx in c_meeting:\n",
    "    cnt=0\n",
    "    et=0\n",
    "    for s,e in meeting:\n",
    "        if s >= et:\n",
    "            et=e # 이전 미팅의 마지막 시간을 보관한다\n",
    "            cnt +=1\n",
    "    print(\"{}로 시작할때 회의 가능횟수 ={}\".format(xx,cnt))\n",
    "    meeting.append(meeting.pop(0))\n",
    "            \n",
    "\n",
    "\n",
    "\n",
    "f.close()"
   ]
  },
  {
   "cell_type": "code",
   "execution_count": 53,
   "metadata": {},
   "outputs": [
    {
     "data": {
      "text/plain": [
       "[(1, 5),\n",
       " (2, 8),\n",
       " (5, 9),\n",
       " (11, 12),\n",
       " (11, 13),\n",
       " (12, 15),\n",
       " (4, 16),\n",
       " (9, 19),\n",
       " (18, 19),\n",
       " (2, 20),\n",
       " (5, 20),\n",
       " (14, 20),\n",
       " (16, 20),\n",
       " (4, 21),\n",
       " (13, 21),\n",
       " (2, 22),\n",
       " (16, 22),\n",
       " (12, 23),\n",
       " (21, 23),\n",
       " (22, 23)]"
      ]
     },
     "execution_count": 53,
     "metadata": {},
     "output_type": "execute_result"
    }
   ],
   "source": [
    "meeting"
   ]
  },
  {
   "cell_type": "code",
   "execution_count": null,
   "metadata": {},
   "outputs": [],
   "source": [
    "\n",
    "        \n",
    "    "
   ]
  },
  {
   "cell_type": "code",
   "execution_count": null,
   "metadata": {},
   "outputs": [],
   "source": []
  },
  {
   "cell_type": "code",
   "execution_count": null,
   "metadata": {},
   "outputs": [],
   "source": []
  }
 ],
 "metadata": {
  "kernelspec": {
   "display_name": "Python 3",
   "language": "python",
   "name": "python3"
  },
  "language_info": {
   "codemirror_mode": {
    "name": "ipython",
    "version": 3
   },
   "file_extension": ".py",
   "mimetype": "text/x-python",
   "name": "python",
   "nbconvert_exporter": "python",
   "pygments_lexer": "ipython3",
   "version": "3.8.3"
  }
 },
 "nbformat": 4,
 "nbformat_minor": 4
}

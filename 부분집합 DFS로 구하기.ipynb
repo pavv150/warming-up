{
 "cells": [
  {
   "cell_type": "code",
   "execution_count": 8,
   "metadata": {},
   "outputs": [
    {
     "name": "stdout",
     "output_type": "stream",
     "text": [
      "30이상 20미만의 홀수를 입력 =3\n",
      "1 2 3 \n",
      "1 2 \n",
      "1 3 \n",
      "1 \n",
      "2 3 \n",
      "2 \n",
      "3 \n",
      "\n"
     ]
    }
   ],
   "source": [
    "def DFS(idx):\n",
    "    if idx == n+1:\n",
    "        for i in range(1,n+1):\n",
    "            if ck_tbl[i]==1:\n",
    "                print(i,end=\" \")\n",
    "        print()\n",
    "    else:\n",
    "        ck_tbl[idx] = 1\n",
    "        DFS(idx+1)\n",
    "        ck_tbl[idx] = 0\n",
    "        DFS(idx+1)\n",
    "n=int(input(\"30이상 20미만의 홀수를 입력 =\"))\n",
    "ck_tbl =[0]*(n+1)\n",
    "DFS(1)"
   ]
  },
  {
   "cell_type": "code",
   "execution_count": null,
   "metadata": {},
   "outputs": [],
   "source": []
  }
 ],
 "metadata": {
  "kernelspec": {
   "display_name": "Python 3",
   "language": "python",
   "name": "python3"
  },
  "language_info": {
   "codemirror_mode": {
    "name": "ipython",
    "version": 3
   },
   "file_extension": ".py",
   "mimetype": "text/x-python",
   "name": "python",
   "nbconvert_exporter": "python",
   "pygments_lexer": "ipython3",
   "version": "3.8.3"
  }
 },
 "nbformat": 4,
 "nbformat_minor": 4
}

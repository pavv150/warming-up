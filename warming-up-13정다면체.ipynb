{
 "cells": [
  {
   "cell_type": "code",
   "execution_count": 3,
   "metadata": {},
   "outputs": [
    {
     "name": "stdout",
     "output_type": "stream",
     "text": [
      "n,m을 컴마로 구분해서 입력하세요 = 12,20\n",
      "13 14 15 16 17 18 19 20 21 "
     ]
    }
   ],
   "source": [
    "n,m = map(int,input(\"n,m을 컴마로 구분해서 입력하세요 = \").split(','))\n",
    "cnt = [0]*(n*m)\n",
    "max_val = 0\n",
    "#cnt값을 초기화 하기\n",
    "\n",
    "for i in range(1,n+1):\n",
    "    for j in range(1, m+1):\n",
    "        index= i+j\n",
    "        cnt[index] +=1\n",
    "#아래 반복문을 통해서 max_Val이 결정된다        \n",
    "for i in range(n+m+1):\n",
    "    if cnt[i] > max_val:\n",
    "        max_val = cnt[i]\n",
    "#정답을 display하는 과정\n",
    "for i in range(n+m+1):\n",
    "    if cnt[i] == max_val:\n",
    "        print(i,end=' ')\n",
    "    "
   ]
  },
  {
   "cell_type": "code",
   "execution_count": 7,
   "metadata": {},
   "outputs": [
    {
     "name": "stdout",
     "output_type": "stream",
     "text": [
      "n,m을 컴마로 구분해서 입력하세요 = 12,20\n",
      "13 14 15 16 17 18 19 20 21 "
     ]
    }
   ],
   "source": [
    "n,m = map(int,input(\"n,m을 컴마로 구분해서 입력하세요 = \").split(','))\n",
    "if n==m:\n",
    "    min_val = n ; max_val = m\n",
    "elif n>m:\n",
    "    max_val=n ; min_val =m\n",
    "else: \n",
    "    min_val =n ; max_val=m\n",
    "for i in range(min_val+1,max_val+2):\n",
    "    print(i,end=' ')"
   ]
  },
  {
   "cell_type": "code",
   "execution_count": 8,
   "metadata": {},
   "outputs": [],
   "source": [
    "def mn_dice(n,m):\n",
    "    if n<m:\n",
    "        return [xx for xx in range(n+1,m+2)]\n",
    "    else:\n",
    "        return [xx for xx in range(m+1,n+2)]"
   ]
  },
  {
   "cell_type": "code",
   "execution_count": 9,
   "metadata": {},
   "outputs": [
    {
     "data": {
      "text/plain": [
       "[13, 14, 15, 16, 17, 18, 19, 20, 21]"
      ]
     },
     "execution_count": 9,
     "metadata": {},
     "output_type": "execute_result"
    }
   ],
   "source": [
    "mn_dice(12,20)"
   ]
  },
  {
   "cell_type": "code",
   "execution_count": null,
   "metadata": {},
   "outputs": [],
   "source": []
  }
 ],
 "metadata": {
  "kernelspec": {
   "display_name": "Python 3",
   "language": "python",
   "name": "python3"
  },
  "language_info": {
   "codemirror_mode": {
    "name": "ipython",
    "version": 3
   },
   "file_extension": ".py",
   "mimetype": "text/x-python",
   "name": "python",
   "nbconvert_exporter": "python",
   "pygments_lexer": "ipython3",
   "version": "3.8.3"
  }
 },
 "nbformat": 4,
 "nbformat_minor": 4
}

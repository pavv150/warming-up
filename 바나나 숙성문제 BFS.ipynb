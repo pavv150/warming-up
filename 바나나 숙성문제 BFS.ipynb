{
 "cells": [
  {
   "cell_type": "code",
   "execution_count": 33,
   "metadata": {},
   "outputs": [
    {
     "name": "stdout",
     "output_type": "stream",
     "text": [
      "10일이 지나면 바나나는 모두 숙성됩니다\n"
     ]
    }
   ],
   "source": [
    "from collections import deque\n",
    "f = open(\"d:/kimsy/바나나숙성in2.txt\")\n",
    "col,row = map(int,f.readline().split())\n",
    "matrix = [list(map(int, f.readline().split())) for _ in range(row)]\n",
    "dx=[-1,0,1,0]\n",
    "dy=[0,1,0,-1]\n",
    "\n",
    "#초기 셋팅\n",
    "chk_tbl = [[0]*col for _ in range(row)]\n",
    "Q = deque()\n",
    "#숙성 바나나의 위치값을 파악한후  Q에 집어 넣기\n",
    "for i in range(row):\n",
    "    for j in range(col):\n",
    "        if matrix[i][j]==1:\n",
    "            Q.append((i,j))\n",
    "while Q:\n",
    "    x ,y = Q.popleft()\n",
    "    for i in range(4):\n",
    "        nx = x+dx[i]\n",
    "        ny = y+dy[i]\n",
    "        if 0 <= nx < row and 0 <= ny < col and matrix[nx][ny]==0:\n",
    "            matrix[nx][ny]=1\n",
    "            chk_tbl[nx][ny] = chk_tbl[x][y] + 1\n",
    "            Q.append((nx,ny))\n",
    "\n",
    "ripe=1  #숙성 플래그\n",
    "for i in range(row):\n",
    "    for j in range(col):\n",
    "        if matrix[i][j]==0: # 빈공간에 갖혀서 숙성이 안된케이스\n",
    "            ripe = 0\n",
    "            break\n",
    "            \n",
    "max_day = 0\n",
    "if ripe ==1:\n",
    "    for i in range(row):\n",
    "        for j in range(col):\n",
    "            if chk_tbl[i][j]>max_day: # 빈공간에 갖혀서 숙성이 안된케이스\n",
    "                max_day= chk_tbl[i][j]\n",
    "print(\"{}일이 지나면 바나나는 모두 숙성됩니다\".format(max_day))\n",
    "\n",
    "f.close()"
   ]
  },
  {
   "cell_type": "code",
   "execution_count": 30,
   "metadata": {},
   "outputs": [
    {
     "data": {
      "text/plain": [
       "deque([])"
      ]
     },
     "execution_count": 30,
     "metadata": {},
     "output_type": "execute_result"
    }
   ],
   "source": [
    "Q"
   ]
  },
  {
   "cell_type": "code",
   "execution_count": 31,
   "metadata": {},
   "outputs": [
    {
     "data": {
      "text/plain": [
       "[[1, -1, 1, -1, 1, -1, 1, 1, 1, 1],\n",
       " [1, 1, 1, 1, 1, 1, 1, 1, 1, 1],\n",
       " [1, 1, 1, 1, 1, 1, 1, -1, 1, -1],\n",
       " [1, 1, 1, 1, -1, 1, 1, -1, 1, 1],\n",
       " [1, 1, 1, 1, 1, -1, 1, 1, 1, 1],\n",
       " [1, 1, 1, 1, 1, 1, 1, 1, 1, 1],\n",
       " [1, 1, 1, 1, 1, 1, 1, 1, 1, 1],\n",
       " [1, 1, -1, 1, 1, 1, 1, 1, -1, 1],\n",
       " [-1, 1, 1, 1, -1, 1, 1, 1, 1, 1],\n",
       " [1, 1, -1, 1, 1, 1, 1, 1, 1, 1]]"
      ]
     },
     "execution_count": 31,
     "metadata": {},
     "output_type": "execute_result"
    }
   ],
   "source": [
    "matrix"
   ]
  },
  {
   "cell_type": "code",
   "execution_count": 32,
   "metadata": {},
   "outputs": [
    {
     "data": {
      "text/plain": [
       "[[3, 0, 4, 0, 0, 0, 2, 1, 2, 3],\n",
       " [2, 3, 3, 2, 1, 2, 1, 0, 1, 2],\n",
       " [1, 2, 3, 3, 2, 2, 1, 0, 2, 0],\n",
       " [0, 1, 2, 2, 0, 1, 0, 0, 3, 4],\n",
       " [1, 1, 2, 1, 2, 0, 1, 2, 3, 4],\n",
       " [1, 0, 1, 0, 1, 1, 0, 1, 2, 3],\n",
       " [2, 1, 1, 0, 1, 2, 1, 2, 3, 4],\n",
       " [3, 2, 0, 1, 2, 3, 2, 2, 0, 4],\n",
       " [0, 3, 3, 2, 0, 3, 2, 1, 2, 3],\n",
       " [5, 4, 0, 3, 3, 2, 1, 0, 1, 2]]"
      ]
     },
     "execution_count": 32,
     "metadata": {},
     "output_type": "execute_result"
    }
   ],
   "source": [
    "chk_tbl"
   ]
  },
  {
   "cell_type": "code",
   "execution_count": null,
   "metadata": {},
   "outputs": [],
   "source": []
  }
 ],
 "metadata": {
  "kernelspec": {
   "display_name": "Python 3",
   "language": "python",
   "name": "python3"
  },
  "language_info": {
   "codemirror_mode": {
    "name": "ipython",
    "version": 3
   },
   "file_extension": ".py",
   "mimetype": "text/x-python",
   "name": "python",
   "nbconvert_exporter": "python",
   "pygments_lexer": "ipython3",
   "version": "3.8.3"
  }
 },
 "nbformat": 4,
 "nbformat_minor": 4
}

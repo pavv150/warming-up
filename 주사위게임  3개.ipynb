{
 "cells": [
  {
   "cell_type": "code",
   "execution_count": 24,
   "metadata": {},
   "outputs": [
    {
     "name": "stdout",
     "output_type": "stream",
     "text": [
      "16000\n"
     ]
    }
   ],
   "source": [
    "f = open(\"d:\\kimsy\\주사위게임2.txt\")\n",
    "n = int(f.readline())\n",
    "max_prize = 0\n",
    "for i in range(n):\n",
    "    temp = list(map(int, f.readline().split())) \n",
    "    temp.sort()\n",
    "    a,b,c=temp\n",
    "    \n",
    "    if a==b and b==c: #주사위눈이 다 같은 경우\n",
    "        prize= 10000+(a*1000)\n",
    "    elif a==b or b==c: #주사위눈이 2개만 같은 경우 : 소트 했기 때문에 a==c 로직은 생략해도된다\n",
    "        prize=100+(b*100)\n",
    "    else: #주사위눈이 모두 다른경우\n",
    "        prize = c*100\n",
    "    \n",
    "    if prize > max_prize:\n",
    "        max_prize = prize\n",
    "print(max_prize)"
   ]
  },
  {
   "cell_type": "code",
   "execution_count": null,
   "metadata": {},
   "outputs": [],
   "source": []
  },
  {
   "cell_type": "code",
   "execution_count": null,
   "metadata": {},
   "outputs": [],
   "source": []
  }
 ],
 "metadata": {
  "kernelspec": {
   "display_name": "Python 3",
   "language": "python",
   "name": "python3"
  },
  "language_info": {
   "codemirror_mode": {
    "name": "ipython",
    "version": 3
   },
   "file_extension": ".py",
   "mimetype": "text/x-python",
   "name": "python",
   "nbconvert_exporter": "python",
   "pygments_lexer": "ipython3",
   "version": "3.8.3"
  }
 },
 "nbformat": 4,
 "nbformat_minor": 4
}

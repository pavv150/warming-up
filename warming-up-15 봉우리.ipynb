{
 "cells": [
  {
   "cell_type": "code",
   "execution_count": 15,
   "metadata": {},
   "outputs": [
    {
     "name": "stdout",
     "output_type": "stream",
     "text": [
      "봉우리 갯수는 11개 입니다\n"
     ]
    }
   ],
   "source": [
    "f = open(\"d:\\kimsy\\봉우리in1.txt\")\n",
    "n = int(f.readline())\n",
    "a = [list(map(int, f.readline().split())) for _ in range(n)]\n",
    "a.insert(0,[0]*n)\n",
    "a.append([0]*n)\n",
    "\n",
    "for xx in a:\n",
    "    xx.insert(0,0)\n",
    "    xx.append(0)\n",
    "\n",
    "cnt = 0\n",
    "#이렇게 하는 방식을 필터방식이라고 한다\n",
    "dx = [-1,0,1,0]\n",
    "dy = [0,1,0,-1]\n",
    "for i in range(1,n+1):\n",
    "    for j in range(1,n+1):\n",
    "        if all(a[i][j] > a[i+dx[k]][j+dy[k]] for k in range(4)):\n",
    "            cnt+=1\n",
    "print(\"봉우리 갯수는 {}개 입니다\".format(cnt))\n",
    "#bb=[0,0,0,0,0,0,0]\n",
    "#a.insert(0,bb)\n",
    "#a.append(bb)\n",
    "\n",
    "\n",
    "f.close()\n"
   ]
  },
  {
   "cell_type": "code",
   "execution_count": 16,
   "metadata": {},
   "outputs": [
    {
     "data": {
      "text/plain": [
       "[[0, 0, 0, 0, 0, 0, 0, 0, 0],\n",
       " [0, 27, 33, 80, 73, 19, 23, 15, 0],\n",
       " [0, 48, 84, 61, 3, 36, 9, 62, 0],\n",
       " [0, 87, 57, 3, 14, 69, 17, 22, 0],\n",
       " [0, 17, 57, 86, 21, 85, 51, 82, 0],\n",
       " [0, 7, 94, 66, 21, 19, 41, 82, 0],\n",
       " [0, 27, 5, 59, 28, 26, 77, 64, 0],\n",
       " [0, 5, 46, 4, 63, 76, 99, 8, 0],\n",
       " [0, 0, 0, 0, 0, 0, 0, 0, 0]]"
      ]
     },
     "execution_count": 16,
     "metadata": {},
     "output_type": "execute_result"
    }
   ],
   "source": [
    "a"
   ]
  },
  {
   "cell_type": "code",
   "execution_count": 4,
   "metadata": {},
   "outputs": [
    {
     "name": "stdout",
     "output_type": "stream",
     "text": [
      "봉우리 갯수는 9개 입니다\n"
     ]
    }
   ],
   "source": [
    "f = open(\"d:\\kimsy\\봉우리in1.txt\")\n",
    "n = int(f.readline())\n",
    "a = [list(map(int, f.readline().split())) for _ in range(n)]\n",
    "a.insert(0,[0]*n)\n",
    "a.append([0]*n)\n",
    "\n",
    "for xx in a:\n",
    "    xx.insert(0,0)\n",
    "    xx.append(0)\n",
    "\n",
    "cnt = 0\n",
    "for i in range(1,n+1):\n",
    "    for j in range(1,n+1):\n",
    "        #               위                아래                  왼쪽                   오른쪽\n",
    "        if(a[i][j] > a[i-1][j] and a[i][j] > a[i+1][j]and a[i][j] > a[i][j-1]and a[i][j] > a[i][j+1]):\n",
    "            cnt +=1\n",
    "print(\"봉우리 갯수는 {}개 입니다\".format(cnt))\n",
    "\n",
    "\n",
    "f.close()\n"
   ]
  },
  {
   "cell_type": "code",
   "execution_count": null,
   "metadata": {},
   "outputs": [],
   "source": []
  },
  {
   "cell_type": "code",
   "execution_count": null,
   "metadata": {},
   "outputs": [],
   "source": []
  },
  {
   "cell_type": "code",
   "execution_count": null,
   "metadata": {},
   "outputs": [],
   "source": []
  },
  {
   "cell_type": "code",
   "execution_count": null,
   "metadata": {},
   "outputs": [],
   "source": []
  },
  {
   "cell_type": "code",
   "execution_count": null,
   "metadata": {},
   "outputs": [],
   "source": []
  },
  {
   "cell_type": "code",
   "execution_count": null,
   "metadata": {},
   "outputs": [],
   "source": []
  },
  {
   "cell_type": "code",
   "execution_count": null,
   "metadata": {},
   "outputs": [],
   "source": []
  }
 ],
 "metadata": {
  "kernelspec": {
   "display_name": "Python 3",
   "language": "python",
   "name": "python3"
  },
  "language_info": {
   "codemirror_mode": {
    "name": "ipython",
    "version": 3
   },
   "file_extension": ".py",
   "mimetype": "text/x-python",
   "name": "python",
   "nbconvert_exporter": "python",
   "pygments_lexer": "ipython3",
   "version": "3.8.3"
  }
 },
 "nbformat": 4,
 "nbformat_minor": 4
}

{
 "cells": [
  {
   "cell_type": "code",
   "execution_count": 2,
   "metadata": {},
   "outputs": [
    {
     "name": "stdout",
     "output_type": "stream",
     "text": [
      "[22, 38, 49, 53, 67, 78, 86, 95, 107, 116]\n",
      "필요한 최소의 보트수량= 5\n"
     ]
    }
   ],
   "source": [
    "f = open('D:\\kimsy\\침몰타이타닉1.txt')\n",
    "n,weight_max = map(int,f.readline().split())\n",
    "vote_people = list(map(int, f.readline().split()))\n",
    "vote_people.sort()\n",
    "print(vote_people)\n",
    "count=0\n",
    "\n",
    "while vote_people:\n",
    "    if vote_people[0] + vote_people[-1] > weight_max:\n",
    "        count +=1\n",
    "        vote_people.pop()\n",
    "    else:\n",
    "        count+=1\n",
    "        vote_people.pop(0) #앞사람 내보내기\n",
    "        vote_people.pop()  #뒷사람 내보내기\n",
    "print(\"필요한 최소의 보트수량=\",count)      "
   ]
  },
  {
   "cell_type": "code",
   "execution_count": 25,
   "metadata": {},
   "outputs": [
    {
     "ename": "TypeError",
     "evalue": "pop() takes no arguments (1 given)",
     "output_type": "error",
     "traceback": [
      "\u001b[1;31m---------------------------------------------------------------------------\u001b[0m",
      "\u001b[1;31mTypeError\u001b[0m                                 Traceback (most recent call last)",
      "\u001b[1;32m<ipython-input-25-afa16cccbca1>\u001b[0m in \u001b[0;36m<module>\u001b[1;34m\u001b[0m\n\u001b[0;32m     12\u001b[0m     \u001b[1;32melse\u001b[0m\u001b[1;33m:\u001b[0m\u001b[1;33m\u001b[0m\u001b[1;33m\u001b[0m\u001b[0m\n\u001b[0;32m     13\u001b[0m         \u001b[0mcount\u001b[0m\u001b[1;33m+=\u001b[0m\u001b[1;36m1\u001b[0m\u001b[1;33m\u001b[0m\u001b[1;33m\u001b[0m\u001b[0m\n\u001b[1;32m---> 14\u001b[1;33m         \u001b[0mdq\u001b[0m\u001b[1;33m.\u001b[0m\u001b[0mpop\u001b[0m\u001b[1;33m(\u001b[0m\u001b[1;36m0\u001b[0m\u001b[1;33m)\u001b[0m \u001b[1;31m#앞사람 내보내기\u001b[0m\u001b[1;33m\u001b[0m\u001b[1;33m\u001b[0m\u001b[0m\n\u001b[0m\u001b[0;32m     15\u001b[0m         \u001b[0mdq\u001b[0m\u001b[1;33m.\u001b[0m\u001b[0mpop\u001b[0m\u001b[1;33m(\u001b[0m\u001b[1;33m)\u001b[0m  \u001b[1;31m#뒷사람 내보내기\u001b[0m\u001b[1;33m\u001b[0m\u001b[1;33m\u001b[0m\u001b[0m\n\u001b[0;32m     16\u001b[0m \u001b[0mprint\u001b[0m\u001b[1;33m(\u001b[0m\u001b[1;34m\"필요한 최소의 보트수량=\"\u001b[0m\u001b[1;33m,\u001b[0m\u001b[0mcount\u001b[0m\u001b[1;33m)\u001b[0m\u001b[1;33m\u001b[0m\u001b[1;33m\u001b[0m\u001b[0m\n",
      "\u001b[1;31mTypeError\u001b[0m: pop() takes no arguments (1 given)"
     ]
    }
   ],
   "source": [
    "from collections import deque\n",
    "f = open('D:\\kimsy\\침몰타이타닉2.txt')\n",
    "n,weight_max = map(int,f.readline().split())\n",
    "vote_people = list(map(int, f.readline().split()))\n",
    "vote_people.sort()\n",
    "count=0\n",
    "dq = deque(vote_people)\n",
    "while dq:\n",
    "    if dq[0] + dq[-1] > weight_max:\n",
    "        count +=1\n",
    "        dq.pop()\n",
    "    else:\n",
    "        count+=1\n",
    "        dq.pop(0) #앞사람 내보내기\n",
    "        dq.pop()  #뒷사람 내보내기\n",
    "print(\"필요한 최소의 보트수량=\",count)  "
   ]
  },
  {
   "cell_type": "code",
   "execution_count": 28,
   "metadata": {},
   "outputs": [
    {
     "data": {
      "text/plain": [
       "[]"
      ]
     },
     "execution_count": 28,
     "metadata": {},
     "output_type": "execute_result"
    }
   ],
   "source": []
  },
  {
   "cell_type": "code",
   "execution_count": null,
   "metadata": {},
   "outputs": [],
   "source": []
  }
 ],
 "metadata": {
  "kernelspec": {
   "display_name": "Python 3",
   "language": "python",
   "name": "python3"
  },
  "language_info": {
   "codemirror_mode": {
    "name": "ipython",
    "version": 3
   },
   "file_extension": ".py",
   "mimetype": "text/x-python",
   "name": "python",
   "nbconvert_exporter": "python",
   "pygments_lexer": "ipython3",
   "version": "3.8.3"
  }
 },
 "nbformat": 4,
 "nbformat_minor": 4
}

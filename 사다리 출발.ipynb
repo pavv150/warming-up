{
 "cells": [
  {
   "cell_type": "code",
   "execution_count": 8,
   "metadata": {},
   "outputs": [
    {
     "name": "stdout",
     "output_type": "stream",
     "text": [
      "7칸에서 출발시 당첨\n"
     ]
    }
   ],
   "source": [
    "\n",
    "def DFS(row,col):\n",
    "    ckd_tbl[row][col] = 1\n",
    "    if row == 0:\n",
    "        print(\"{}칸에서 출발시 당첨\".format(col))\n",
    "    else:\n",
    "        if col -1>=0 and matrix[row][col-1] == 1 and ckd_tbl[row][col-1] == 0: #인덱스 에러, 벽인지 아닌지 왔던곳인지 아닌지\n",
    "            DFS(row ,col-1) #왼쪽으로 움직이기\n",
    "        elif col +1< 10 and matrix[row][col+1] == 1 and ckd_tbl[row][col+1] == 0:\n",
    "            DFS(row, col+1) #오른쪽으로 움직이기\n",
    "        else:\n",
    "            DFS(row-1,col)  #윗쪽으로 움직이기\n",
    "f = open(\"d:\\kimsy\\사다리in1.txt\")\n",
    "matrix= [list(map(int,f.readline().split())) for _ in range(10)]\n",
    "ckd_tbl=[[0]*10 for _ in range(10)]\n",
    "for col in range(10):\n",
    "    if matrix[9][col]==2:\n",
    "        DFS(9,col)\n"
   ]
  },
  {
   "cell_type": "code",
   "execution_count": 6,
   "metadata": {},
   "outputs": [
    {
     "data": {
      "text/plain": [
       "[[1, 0, 1, 0, 0, 1, 0, 1, 0, 1],\n",
       " [1, 0, 1, 1, 1, 1, 0, 1, 0, 1],\n",
       " [1, 0, 1, 0, 0, 1, 0, 1, 0, 1],\n",
       " [1, 0, 1, 0, 0, 1, 0, 1, 1, 1],\n",
       " [1, 1, 1, 0, 0, 1, 0, 1, 0, 1],\n",
       " [1, 0, 1, 1, 1, 1, 0, 1, 0, 1],\n",
       " [1, 0, 1, 0, 0, 1, 0, 1, 1, 1],\n",
       " [1, 1, 1, 0, 0, 1, 0, 1, 0, 1],\n",
       " [1, 0, 1, 0, 0, 1, 1, 1, 0, 1],\n",
       " [1, 0, 2, 0, 0, 1, 0, 1, 0, 1]]"
      ]
     },
     "execution_count": 6,
     "metadata": {},
     "output_type": "execute_result"
    }
   ],
   "source": [
    "matrix"
   ]
  },
  {
   "cell_type": "code",
   "execution_count": 7,
   "metadata": {},
   "outputs": [
    {
     "data": {
      "text/plain": [
       "[[0, 0, 0, 0, 0, 1, 0, 0, 0, 0],\n",
       " [0, 0, 1, 1, 1, 1, 0, 0, 0, 0],\n",
       " [0, 0, 1, 0, 0, 0, 0, 0, 0, 0],\n",
       " [0, 0, 1, 0, 0, 0, 0, 0, 0, 0],\n",
       " [1, 1, 1, 0, 0, 0, 0, 0, 0, 0],\n",
       " [1, 0, 0, 0, 0, 0, 0, 0, 0, 0],\n",
       " [1, 0, 0, 0, 0, 0, 0, 0, 0, 0],\n",
       " [1, 1, 1, 0, 0, 0, 0, 0, 0, 0],\n",
       " [0, 0, 1, 0, 0, 0, 0, 0, 0, 0],\n",
       " [0, 0, 1, 0, 0, 0, 0, 0, 0, 0]]"
      ]
     },
     "execution_count": 7,
     "metadata": {},
     "output_type": "execute_result"
    }
   ],
   "source": [
    "ckd_tbl"
   ]
  },
  {
   "cell_type": "code",
   "execution_count": null,
   "metadata": {},
   "outputs": [],
   "source": []
  }
 ],
 "metadata": {
  "kernelspec": {
   "display_name": "Python 3",
   "language": "python",
   "name": "python3"
  },
  "language_info": {
   "codemirror_mode": {
    "name": "ipython",
    "version": 3
   },
   "file_extension": ".py",
   "mimetype": "text/x-python",
   "name": "python",
   "nbconvert_exporter": "python",
   "pygments_lexer": "ipython3",
   "version": "3.8.3"
  }
 },
 "nbformat": 4,
 "nbformat_minor": 4
}

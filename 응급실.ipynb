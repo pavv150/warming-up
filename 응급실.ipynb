{
 "cells": [
  {
   "cell_type": "code",
   "execution_count": 21,
   "metadata": {},
   "outputs": [
    {
     "name": "stdout",
     "output_type": "stream",
     "text": [
      "지정하신 2환자의 진료 차례는 3번째 입니다.\n"
     ]
    }
   ],
   "source": [
    "from collections import deque\n",
    "f= open('d:\\kimsy\\응급실in1.txt')\n",
    "n,m= map(int, f.readline().split())\n",
    "emer_lst = [(idx,int(xx))for idx,xx in enumerate(f.readline().split())]\n",
    "Q = deque(emer_lst)\n",
    "cnt = 0\n",
    "while True:\n",
    "    now = Q.popleft()\n",
    "    if any(now[1] < x[1] for x in Q):\n",
    "        Q.append(now)\n",
    "    else:\n",
    "        cnt += 1 #이사람은 진료 받는다\n",
    "        if now[0] == m:\n",
    "            break\n",
    "print(\"지정하신 {}환자의 진료 차례는 {}번째 입니다.\".format(m,cnt))\n",
    "        "
   ]
  },
  {
   "cell_type": "code",
   "execution_count": 16,
   "metadata": {},
   "outputs": [
    {
     "data": {
      "text/plain": [
       "[(0, 60), (1, 50), (2, 70), (3, 80), (4, 90)]"
      ]
     },
     "execution_count": 16,
     "metadata": {},
     "output_type": "execute_result"
    }
   ],
   "source": [
    "emer_lst"
   ]
  },
  {
   "cell_type": "code",
   "execution_count": 13,
   "metadata": {},
   "outputs": [
    {
     "name": "stdout",
     "output_type": "stream",
     "text": [
      "0 60\n",
      "1 50\n",
      "2 70\n",
      "3 80\n",
      "4 90\n"
     ]
    }
   ],
   "source": [
    "for idx,xx in enumerate(f.readline().split()):\n",
    "    print(idx,(int)xx)"
   ]
  },
  {
   "cell_type": "code",
   "execution_count": null,
   "metadata": {},
   "outputs": [],
   "source": []
  }
 ],
 "metadata": {
  "kernelspec": {
   "display_name": "Python 3",
   "language": "python",
   "name": "python3"
  },
  "language_info": {
   "codemirror_mode": {
    "name": "ipython",
    "version": 3
   },
   "file_extension": ".py",
   "mimetype": "text/x-python",
   "name": "python",
   "nbconvert_exporter": "python",
   "pygments_lexer": "ipython3",
   "version": "3.8.3"
  }
 },
 "nbformat": 4,
 "nbformat_minor": 4
}

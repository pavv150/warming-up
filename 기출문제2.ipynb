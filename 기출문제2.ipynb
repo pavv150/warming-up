{
 "cells": [
  {
   "cell_type": "code",
   "execution_count": 48,
   "metadata": {},
   "outputs": [],
   "source": [
    "# orders = [\"alex pizza pasta\",\"alex pizza pizza\",\"alex noodle\",\"bob pasta\",\"bob noodle sandwich pasta\",\"bob steak noodle\"]"
   ]
  },
  {
   "cell_type": "code",
   "execution_count": 49,
   "metadata": {},
   "outputs": [],
   "source": [
    "orders = [\"alex pizza pasta steak\",\"bob noodle sandwich pasta\",\"choi pizza sandwich pizza\",\"alex pizza pasta steak\"]"
   ]
  },
  {
   "cell_type": "code",
   "execution_count": 51,
   "metadata": {},
   "outputs": [
    {
     "name": "stdout",
     "output_type": "stream",
     "text": [
      "[('bob', 3), ('alex', 3), ('choi', 2)]\n",
      "bob alex "
     ]
    }
   ],
   "source": [
    "names = []\n",
    "for xx in orders:\n",
    "    name_order = xx.split()\n",
    "    names.append(name_order[0])\n",
    "names = list(set(names))  # 이름 중복 제거\n",
    "\n",
    "name_menu_cnt = []\n",
    "for name in names:\n",
    "    order_list = []\n",
    "    for xx in orders:\n",
    "        order = xx.split()\n",
    "        if name == order[0]:\n",
    "            for k in range(1, len(order)):\n",
    "                order_list.append(order[k])\n",
    "#             print(name,order_list)\n",
    "    name_menu_cnt.append((name,len(set(order_list))))\n",
    "\n",
    "\n",
    "name_menu_cnt.sort(key = lambda x : (x[1],x[0]),reverse =True)\n",
    "print(name_menu_cnt)\n",
    "\n",
    "top = 0\n",
    "for xx in name_menu_cnt:\n",
    "    if xx[1] >= top:\n",
    "        print(xx[0],end=\" \")\n",
    "        top = xx[1]"
   ]
  },
  {
   "cell_type": "code",
   "execution_count": 69,
   "metadata": {},
   "outputs": [
    {
     "data": {
      "text/plain": [
       "['alex', 'pizza', 'pasta', 'steak']"
      ]
     },
     "execution_count": 69,
     "metadata": {},
     "output_type": "execute_result"
    }
   ],
   "source": [
    "name_order"
   ]
  },
  {
   "cell_type": "code",
   "execution_count": 68,
   "metadata": {},
   "outputs": [
    {
     "name": "stdout",
     "output_type": "stream",
     "text": [
      "{'alex': {'pasta', 'pizza', 'steak'}}\n",
      "{'alex': {'pasta', 'pizza', 'steak'}, 'bob': {'sandwich', 'pasta', 'noodle'}}\n",
      "{'alex': {'pasta', 'pizza', 'steak'}, 'bob': {'sandwich', 'pasta', 'noodle'}, 'choi': {'sandwich', 'pizza'}}\n",
      "{'alex': {'pasta', 'pizza', 'steak'}, 'bob': {'sandwich', 'pasta', 'noodle'}, 'choi': {'sandwich', 'pizza'}}\n",
      "{'alex': 3, 'bob': 3, 'choi': 2}\n",
      "bob alex "
     ]
    }
   ],
   "source": [
    "# 다른 소스\n",
    "\n",
    "tester_dic={}\n",
    "for i in orders:\n",
    "    i = i.split()\n",
    "    if i[0] not in tester_dic:\n",
    "        tester_dic[i[0]]= set(i[1::])\n",
    "    else:\n",
    "        tester_dic[i[0]].update(i[1::])\n",
    "    print(tester_dic)\n",
    "    \n",
    "for j in tester_dic:\n",
    "    tester_dic[j] = len(tester_dic[j])\n",
    "    \n",
    "print(tester_dic)\n",
    "\n",
    "name_menu_cnt = []\n",
    "for key,value in tester_dic.items():\n",
    "    name_menu_cnt.append((key,value))\n",
    "    \n",
    "name_menu_cnt.sort(key = lambda x : (x[1],x[0]),reverse =True)\n",
    "\n",
    "\n",
    "top = 0\n",
    "for xx in name_menu_cnt:\n",
    "    if xx[1] >= top:\n",
    "        print(xx[0],end=\" \")\n",
    "        top = xx[1]"
   ]
  },
  {
   "cell_type": "code",
   "execution_count": null,
   "metadata": {},
   "outputs": [],
   "source": []
  },
  {
   "cell_type": "code",
   "execution_count": null,
   "metadata": {},
   "outputs": [],
   "source": []
  },
  {
   "cell_type": "code",
   "execution_count": null,
   "metadata": {},
   "outputs": [],
   "source": []
  }
 ],
 "metadata": {
  "kernelspec": {
   "display_name": "Python 3",
   "language": "python",
   "name": "python3"
  },
  "language_info": {
   "codemirror_mode": {
    "name": "ipython",
    "version": 3
   },
   "file_extension": ".py",
   "mimetype": "text/x-python",
   "name": "python",
   "nbconvert_exporter": "python",
   "pygments_lexer": "ipython3",
   "version": "3.8.3"
  }
 },
 "nbformat": 4,
 "nbformat_minor": 4
}

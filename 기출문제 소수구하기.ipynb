{
 "cells": [
  {
   "cell_type": "code",
   "execution_count": 37,
   "metadata": {},
   "outputs": [
    {
     "name": "stdout",
     "output_type": "stream",
     "text": [
      "숫자를 입력=4\n",
      "4 => 2 * 2\n"
     ]
    }
   ],
   "source": [
    "from math import sqrt\n",
    "def is_prime(num):\n",
    "    for j in range(2,int(sqrt(num)+1)):\n",
    "        if num%j ==0:\n",
    "            return False\n",
    "    return True\n",
    "\n",
    "mul_prime=False\n",
    "n=int(input(\"숫자를 입력=\"))\n",
    "for i in range(2,int(sqrt(n)+1)):\n",
    "    if is_prime(i):\n",
    "        m = n % i\n",
    "        if m == 0 and is_prime(n//i):\n",
    "            print(\"{} => {} * {}\".format(n,i,n//i))\n",
    "            mul_prime = True\n",
    "            break\n",
    "if not mul_prime : print(\"처리불가\")"
   ]
  },
  {
   "cell_type": "code",
   "execution_count": null,
   "metadata": {},
   "outputs": [],
   "source": [
    "N=int(input(\"숫자를 입력=\"))\n",
    "if is_prime(N):\n",
    "    print(\"솟수\")\n",
    "else:\n",
    "    print(\"솟수 아님\")"
   ]
  },
  {
   "cell_type": "code",
   "execution_count": null,
   "metadata": {},
   "outputs": [],
   "source": []
  },
  {
   "cell_type": "code",
   "execution_count": null,
   "metadata": {},
   "outputs": [],
   "source": []
  }
 ],
 "metadata": {
  "kernelspec": {
   "display_name": "Python 3",
   "language": "python",
   "name": "python3"
  },
  "language_info": {
   "codemirror_mode": {
    "name": "ipython",
    "version": 3
   },
   "file_extension": ".py",
   "mimetype": "text/x-python",
   "name": "python",
   "nbconvert_exporter": "python",
   "pygments_lexer": "ipython3",
   "version": "3.8.3"
  }
 },
 "nbformat": 4,
 "nbformat_minor": 4
}
